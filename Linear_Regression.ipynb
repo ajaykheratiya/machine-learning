{
  "nbformat": 4,
  "nbformat_minor": 0,
  "metadata": {
    "kernelspec": {
      "display_name": "Python 3",
      "language": "python",
      "name": "python3"
    },
    "language_info": {
      "codemirror_mode": {
        "name": "ipython",
        "version": 3
      },
      "file_extension": ".py",
      "mimetype": "text/x-python",
      "name": "python",
      "nbconvert_exporter": "python",
      "pygments_lexer": "ipython3",
      "version": "3.7.3"
    },
    "colab": {
      "name": "Linear Regression.ipynb",
      "provenance": [],
      "collapsed_sections": []
    }
  },
  "cells": [
    {
      "cell_type": "code",
      "metadata": {
        "id": "JJM8ymxD96uR",
        "colab_type": "code",
        "colab": {}
      },
      "source": [
        " class MyLinearRegression:\n",
        "    def __init__(self, weight=3, bias=5, learning_rate=0.001,\n",
        "                 iterations=100):\n",
        "        self.weight = weight\n",
        "        self.bias = bias\n",
        "        self.learning_rate = learning_rate\n",
        "        self.iterations = iterations\n",
        "        self.it=[]\n",
        "        self.cost_trend = [] \n",
        "        self.cost = 0\n",
        "\n",
        "    def predict(self, x):\n",
        "        predicted_set = []\n",
        "        for i in range(len(x)):\n",
        "            predicted_value = self.weight * x[i] + self.bias\n",
        "            predicted_set.append(predicted_value)\n",
        "        return predicted_set\n",
        "\n",
        "    def cost_function(self, x, y):\n",
        "        count = len(x)\n",
        "        total_error = 0.0\n",
        "        for i in range(count):\n",
        "            total_error += (y[i] - (self.weight * x[i] +\n",
        "                            self.bias)) ** 2\n",
        "        return float(total_error) / (2 * count)\n",
        "\n",
        "    def update_weights(self, x, y):\n",
        "        weight_deriv = 0\n",
        "        bias_deriv = 0\n",
        "        count = len(x)\n",
        "\n",
        "        for i in range(count):\n",
        "            # Calculate partial derivatives\n",
        "            # -2x(y - (mx + b))\n",
        "            weight_deriv += -2 * x[i] * (y[i] -(self.weight * x[i] + self.bias))\n",
        "\n",
        "            # -2(y - (mx + b))\n",
        "            bias_deriv += -2 * (y[i] - (self.weight * x[i] +\n",
        "                                self.bias))\n",
        "\n",
        "        # We subtract because the derivatives point in direction of steepest\n",
        "        # ascent\n",
        "        self.weight -= (weight_deriv / count) * self.learning_rate\n",
        "        self.bias -= (bias_deriv / count) * self.learning_rate\n",
        "\n",
        "    def train(self, x, y):\n",
        "        for i in range(self.iterations):\n",
        "            self.update_weights(x, y)\n",
        "            # Calculating cost\n",
        "            self.cost = self.cost_function(x, y)\n",
        "            self.cost_trend.append(self.cost)\n",
        "            self.it.append(i)\n",
        "           # if i % 10000 == 0:\n",
        "            print(\"Iteration: {}\\t Weight: {}\\t Bias: {}\\t Cost: {}\".format(i, self.weight, self.bias, self.cost))"
      ],
      "execution_count": 0,
      "outputs": []
    },
    {
      "cell_type": "code",
      "metadata": {
        "id": "XGMUmPfj96ua",
        "colab_type": "code",
        "colab": {}
      },
      "source": [
        "import pandas as pd\n",
        "import numpy as np\n",
        "import matplotlib.pyplot as plt\n",
        "# intialise data of lists. \n",
        "data = {'Hours':[2.5,5.1,3.2,8.5,3.5,1.5,9.2,5.5,8.3,2.7,7.7,5.9,4.5,3.3,1.1,8.9,2.5,1.9,6.1,7.4,2.7,4.8,3.8,6.9,7.8], \n",
        "        'Scores':[21,47,27,75,30,20,88,60,81,25,85,62,41,42,17,95,30,24,67,69,30,54,35,76,86]} \n",
        "  \n",
        "# Create DataFrame \n",
        "studentscores = pd.DataFrame(data) \n",
        "  \n",
        "# Print the output. \n",
        "studentscores "
      ],
      "execution_count": 0,
      "outputs": []
    },
    {
      "cell_type": "code",
      "metadata": {
        "id": "RyOqYPRdBpo9",
        "colab_type": "code",
        "colab": {}
      },
      "source": [
        ""
      ],
      "execution_count": 0,
      "outputs": []
    },
    {
      "cell_type": "code",
      "metadata": {
        "id": "Avh401TI11sH",
        "colab_type": "code",
        "outputId": "cb38e786-e923-4270-f2c2-226101e116c8",
        "colab": {
          "base_uri": "https://localhost:8080/",
          "height": 279
        }
      },
      "source": [
        "x=[2.5,5.1,3.2,8.5,3.5,1.5,9.2,5.5,8.3,2.7,7.7,5.9,4.5,3.3,1.1,8.9,2.5,1.9,6.1,7.4,2.7,4.8,3.8,6.9,7.8] \n",
        "y=[21,47,27,75,30,20,88,60,81,25,85,62,41,42,17,95,30,24,67,69,30,54,35,76,86]\n",
        "plt.scatter(x,y,s=90)\n",
        "plt.xlabel('x')\n",
        "plt.ylabel('y')\n",
        "plt.show()"
      ],
      "execution_count": 7,
      "outputs": [
        {
          "output_type": "display_data",
          "data": {
            "image/png": "[encoded data removed]",
            "text/plain": [
              "<Figure size 432x288 with 1 Axes>"
            ]
          },
          "metadata": {
            "tags": []
          }
        }
      ]
    },
    {
      "cell_type": "code",
      "metadata": {
        "id": "_LSp2jKt96uj",
        "colab_type": "code",
        "outputId": "e8006a29-1024-4b35-84ae-f1c21dabfe3b",
        "colab": {
          "base_uri": "https://localhost:8080/",
          "height": 497
        }
      },
      "source": [
        "\n",
        "import matplotlib.pyplot as plt\n",
        "import pandas as pd\n",
        "from sklearn.model_selection import train_test_split\n",
        "\n",
        "\n",
        "# using iloc change input to output\n",
        "X = studentscores.iloc[:, :-1].values\n",
        "y = studentscores.iloc[:, -1].values\n",
        "X,y"
      ],
      "execution_count": 8,
      "outputs": [
        {
          "output_type": "execute_result",
          "data": {
            "text/plain": [
              "(array([[2.5],\n",
              "        [5.1],\n",
              "        [3.2],\n",
              "        [8.5],\n",
              "        [3.5],\n",
              "        [1.5],\n",
              "        [9.2],\n",
              "        [5.5],\n",
              "        [8.3],\n",
              "        [2.7],\n",
              "        [7.7],\n",
              "        [5.9],\n",
              "        [4.5],\n",
              "        [3.3],\n",
              "        [1.1],\n",
              "        [8.9],\n",
              "        [2.5],\n",
              "        [1.9],\n",
              "        [6.1],\n",
              "        [7.4],\n",
              "        [2.7],\n",
              "        [4.8],\n",
              "        [3.8],\n",
              "        [6.9],\n",
              "        [7.8]]),\n",
              " array([21, 47, 27, 75, 30, 20, 88, 60, 81, 25, 85, 62, 41, 42, 17, 95, 30,\n",
              "        24, 67, 69, 30, 54, 35, 76, 86]))"
            ]
          },
          "metadata": {
            "tags": []
          },
          "execution_count": 8
        }
      ]
    },
    {
      "cell_type": "code",
      "metadata": {
        "id": "PvfKE_WT96un",
        "colab_type": "code",
        "outputId": "a7106faa-bbe6-4525-eafa-45660e00b960",
        "colab": {
          "base_uri": "https://localhost:8080/",
          "height": 1000
        }
      },
      "source": [
        "X_train, X_test, y_train, y_test = train_test_split(X, y, test_size=0.2, random_state=0) # split the datasets horizontally \n",
        "\n",
        "# Fitting Simple Linear Regression to the Training set\n",
        "regressor = MyLinearRegression()\n",
        "regressor.train(X_train, y_train)\n",
        "print('Weight: ' + str(regressor.weight) + ' Bias: ' + str(regressor.bias))\n",
        "\n",
        "# Predicting the Test set results\n",
        "y_pred = regressor.predict(X_test)"
      ],
      "execution_count": 10,
      "outputs": [
        {
          "output_type": "stream",
          "text": [
            "Iteration: 0\t Weight: [3.433644]\t Bias: [5.06646]\t Cost: 622.1807764371597\n",
            "Iteration: 1\t Weight: [3.8374194]\t Bias: [5.12824249]\t Cost: 541.6294938599218\n",
            "Iteration: 2\t Weight: [4.21338454]\t Bias: [5.18566985]\t Cost: 471.79765434570254\n",
            "Iteration: 3\t Weight: [4.56345592]\t Bias: [5.23904224]\t Cost: 411.25873906590607\n",
            "Iteration: 4\t Weight: [4.88941795]\t Bias: [5.28863914]\t Cost: 358.77606704973067\n",
            "Iteration: 5\t Weight: [5.19293208]\t Bias: [5.33472076]\t Cost: 313.277531996931\n",
            "Iteration: 6\t Weight: [5.47554528]\t Bias: [5.37752939]\t Cost: 273.8337010576646\n",
            "Iteration: 7\t Weight: [5.73869789]\t Bias: [5.41729062]\t Cost: 239.6388281765473\n",
            "Iteration: 8\t Weight: [5.983731]\t Bias: [5.45421448]\t Cost: 209.99439413738543\n",
            "Iteration: 9\t Weight: [6.21189328]\t Bias: [5.48849655]\t Cost: 184.29483706105046\n",
            "Iteration: 10\t Weight: [6.42434735]\t Bias: [5.52031892]\t Cost: 162.0151818560071\n",
            "Iteration: 11\t Weight: [6.62217572]\t Bias: [5.54985112]\t Cost: 142.70031591322743\n",
            "Iteration: 12\t Weight: [6.80638627]\t Bias: [5.57725102]\t Cost: 125.95569196705878\n",
            "Iteration: 13\t Weight: [6.97791746]\t Bias: [5.60266559]\t Cost: 111.43926819806913\n",
            "Iteration: 14\t Weight: [7.13764307]\t Bias: [5.62623168]\t Cost: 98.85452092854311\n",
            "Iteration: 15\t Weight: [7.28637663]\t Bias: [5.64807672]\t Cost: 87.9443871724543\n",
            "Iteration: 16\t Weight: [7.42487566]\t Bias: [5.66831934]\t Cost: 78.48601329701125\n",
            "Iteration: 17\t Weight: [7.55384544]\t Bias: [5.68707]\t Cost: 70.28620252029519\n",
            "Iteration: 18\t Weight: [7.67394265]\t Bias: [5.70443156]\t Cost: 63.177468245483475\n",
            "Iteration: 19\t Weight: [7.78577874]\t Bias: [5.72049978]\t Cost: 57.01461260831347\n",
            "Iteration: 20\t Weight: [7.889923]\t Bias: [5.73536382]\t Cost: 51.671760343612036\n",
            "Iteration: 21\t Weight: [7.98690548]\t Bias: [5.7491067]\t Cost: 47.039787378072724\n",
            "Iteration: 22\t Weight: [8.07721974]\t Bias: [5.76180571]\t Cost: 43.02409162001564\n",
            "Iteration: 23\t Weight: [8.16132529]\t Bias: [5.77353284]\t Cost: 39.54266040733909\n",
            "Iteration: 24\t Weight: [8.23964999]\t Bias: [5.78435508]\t Cost: 36.524395135071316\n",
            "Iteration: 25\t Weight: [8.31259222]\t Bias: [5.79433484]\t Cost: 33.90765883764914\n",
            "Iteration: 26\t Weight: [8.38052288]\t Bias: [5.80353021]\t Cost: 31.639017055620343\n",
            "Iteration: 27\t Weight: [8.44378735]\t Bias: [5.81199527]\t Cost: 29.672146264920485\n",
            "Iteration: 28\t Weight: [8.50270718]\t Bias: [5.81978038]\t Cost: 27.96688756988106\n",
            "Iteration: 29\t Weight: [8.55758176]\t Bias: [5.82693245]\t Cost: 26.488426328604767\n",
            "Iteration: 30\t Weight: [8.60868987]\t Bias: [5.83349513]\t Cost: 25.20658095191588\n",
            "Iteration: 31\t Weight: [8.65629106]\t Bias: [5.83950907]\t Cost: 24.095186347317586\n",
            "Iteration: 32\t Weight: [8.70062699]\t Bias: [5.84501212]\t Cost: 23.13155941281489\n",
            "Iteration: 33\t Weight: [8.74192268]\t Bias: [5.85003953]\t Cost: 22.296035661595223\n",
            "Iteration: 34\t Weight: [8.78038765]\t Bias: [5.8546241]\t Cost: 21.571567511634907\n",
            "Iteration: 35\t Weight: [8.81621695]\t Bias: [5.85879639]\t Cost: 20.943376034004732\n",
            "Iteration: 36\t Weight: [8.84959221]\t Bias: [5.86258484]\t Cost: 20.398649045713192\n",
            "Iteration: 37\t Weight: [8.88068256]\t Bias: [5.86601594]\t Cost: 19.926279379662468\n",
            "Iteration: 38\t Weight: [8.90964543]\t Bias: [5.86911436]\t Cost: 19.516637985039225\n",
            "Iteration: 39\t Weight: [8.93662745]\t Bias: [5.87190305]\t Cost: 19.161377222985585\n",
            "Iteration: 40\t Weight: [8.9617651]\t Bias: [5.87440339]\t Cost: 18.853260339231486\n",
            "Iteration: 41\t Weight: [8.98518549]\t Bias: [5.87663528]\t Cost: 18.586013630118636\n",
            "Iteration: 42\t Weight: [9.00700696]\t Bias: [5.87861727]\t Cost: 18.35419828203137\n",
            "Iteration: 43\t Weight: [9.02733968]\t Bias: [5.8803666]\t Cost: 18.153099266142206\n",
            "Iteration: 44\t Weight: [9.04628624]\t Bias: [5.88189935]\t Cost: 17.97862901879042\n",
            "Iteration: 45\t Weight: [9.06394217]\t Bias: [5.88323047]\t Cost: 17.827243939855144\n",
            "Iteration: 46\t Weight: [9.08039639]\t Bias: [5.88437389]\t Cost: 17.695872003333527\n",
            "Iteration: 47\t Weight: [9.09573173]\t Bias: [5.88534259]\t Cost: 17.58185000133744\n",
            "Iteration: 48\t Weight: [9.11002527]\t Bias: [5.88614864]\t Cost: 17.482869139515447\n",
            "Iteration: 49\t Weight: [9.12334882]\t Bias: [5.88680327]\t Cost: 17.396927872511093\n",
            "Iteration: 50\t Weight: [9.1357692]\t Bias: [5.88731697]\t Cost: 17.32229101597071\n",
            "Iteration: 51\t Weight: [9.14734865]\t Bias: [5.88769948]\t Cost: 17.257454299831316\n",
            "Iteration: 52\t Weight: [9.15814512]\t Bias: [5.88795986]\t Cost: 17.20111363877578\n",
            "Iteration: 53\t Weight: [9.16821256]\t Bias: [5.88810658]\t Cost: 17.152138492105642\n",
            "Iteration: 54\t Weight: [9.17760121]\t Bias: [5.8881475]\t Cost: 17.109548768820652\n",
            "Iteration: 55\t Weight: [9.18635784]\t Bias: [5.88808995]\t Cost: 17.072494806117753\n",
            "Iteration: 56\t Weight: [9.19452599]\t Bias: [5.88794074]\t Cost: 17.040240012305453\n",
            "Iteration: 57\t Weight: [9.20214622]\t Bias: [5.88770622]\t Cost: 17.01214581955926\n",
            "Iteration: 58\t Weight: [9.20925628]\t Bias: [5.88739232]\t Cost: 16.987658639130146\n",
            "Iteration: 59\t Weight: [9.21589132]\t Bias: [5.88700453]\t Cost: 16.966298552523924\n",
            "Iteration: 60\t Weight: [9.22208407]\t Bias: [5.88654798]\t Cost: 16.947649507632402\n",
            "Iteration: 61\t Weight: [9.22786501]\t Bias: [5.88602744]\t Cost: 16.931350819541283\n",
            "Iteration: 62\t Weight: [9.2332625]\t Bias: [5.88544736]\t Cost: 16.9170898023907\n",
            "Iteration: 63\t Weight: [9.23830298]\t Bias: [5.88481187]\t Cost: 16.904595381771223\n",
            "Iteration: 64\t Weight: [9.24301103]\t Bias: [5.88412484]\t Cost: 16.893632557167255\n",
            "Iteration: 65\t Weight: [9.24740957]\t Bias: [5.88338983]\t Cost: 16.883997601326048\n",
            "Iteration: 66\t Weight: [9.25151991]\t Bias: [5.8826102]\t Cost: 16.875513898483497\n",
            "Iteration: 67\t Weight: [9.2553619]\t Bias: [5.88178905]\t Cost: 16.8680283364294\n",
            "Iteration: 68\t Weight: [9.25895405]\t Bias: [5.88092928]\t Cost: 16.86140817870843\n",
            "Iteration: 69\t Weight: [9.26231355]\t Bias: [5.88003358]\t Cost: 16.855538353061373\n",
            "Iteration: 70\t Weight: [9.26545644]\t Bias: [5.87910447]\t Cost: 16.850319100714394\n",
            "Iteration: 71\t Weight: [9.26839764]\t Bias: [5.87814428]\t Cost: 16.845663938495587\n",
            "Iteration: 72\t Weight: [9.27115104]\t Bias: [5.87715518]\t Cost: 16.841497892148297\n",
            "Iteration: 73\t Weight: [9.27372958]\t Bias: [5.87613921]\t Cost: 16.83775596475111\n",
            "Iteration: 74\t Weight: [9.27614531]\t Bias: [5.87509824]\t Cost: 16.83438180895696\n",
            "Iteration: 75\t Weight: [9.27840943]\t Bias: [5.87403404]\t Cost: 16.831326575927637\n",
            "Iteration: 76\t Weight: [9.2805324]\t Bias: [5.87294824]\t Cost: 16.828547917449505\n",
            "Iteration: 77\t Weight: [9.28252392]\t Bias: [5.87184237]\t Cost: 16.826009120845242\n",
            "Iteration: 78\t Weight: [9.28439307]\t Bias: [5.87071783]\t Cost: 16.82367835900967\n",
            "Iteration: 79\t Weight: [9.28614825]\t Bias: [5.86957596]\t Cost: 16.821528040249085\n",
            "Iteration: 80\t Weight: [9.28779733]\t Bias: [5.86841797]\t Cost: 16.819534244642398\n",
            "Iteration: 81\t Weight: [9.28934761]\t Bias: [5.86724502]\t Cost: 16.817676235410087\n",
            "Iteration: 82\t Weight: [9.29080589]\t Bias: [5.86605817]\t Cost: 16.8159360353091\n",
            "Iteration: 83\t Weight: [9.29217851]\t Bias: [5.86485841]\t Cost: 16.81429805940011\n",
            "Iteration: 84\t Weight: [9.29347136]\t Bias: [5.86364666]\t Cost: 16.812748796685195\n",
            "Iteration: 85\t Weight: [9.29468993]\t Bias: [5.86242378]\t Cost: 16.811276534112636\n",
            "Iteration: 86\t Weight: [9.29583935]\t Bias: [5.86119059]\t Cost: 16.809871117310255\n",
            "Iteration: 87\t Weight: [9.29692437]\t Bias: [5.85994781]\t Cost: 16.808523743160087\n",
            "Iteration: 88\t Weight: [9.29794942]\t Bias: [5.85869615]\t Cost: 16.807226779976542\n",
            "Iteration: 89\t Weight: [9.29891863]\t Bias: [5.85743624]\t Cost: 16.805973611614952\n",
            "Iteration: 90\t Weight: [9.29983585]\t Bias: [5.8561687]\t Cost: 16.80475850232569\n",
            "Iteration: 91\t Weight: [9.30070464]\t Bias: [5.85489409]\t Cost: 16.803576479593403\n",
            "Iteration: 92\t Weight: [9.30152835]\t Bias: [5.85361291]\t Cost: 16.802423232567406\n",
            "Iteration: 93\t Weight: [9.30231007]\t Bias: [5.85232567]\t Cost: 16.801295024009086\n",
            "Iteration: 94\t Weight: [9.30305269]\t Bias: [5.85103281]\t Cost: 16.800188613956845\n",
            "Iteration: 95\t Weight: [9.30375891]\t Bias: [5.84973475]\t Cost: 16.799101193549717\n",
            "Iteration: 96\t Weight: [9.30443122]\t Bias: [5.84843189]\t Cost: 16.798030327657518\n",
            "Iteration: 97\t Weight: [9.30507196]\t Bias: [5.84712459]\t Cost: 16.79697390514568\n",
            "Iteration: 98\t Weight: [9.30568329]\t Bias: [5.84581318]\t Cost: 16.795930095758653\n",
            "Iteration: 99\t Weight: [9.30626724]\t Bias: [5.844498]\t Cost: 16.794897312741263\n",
            "Weight: [9.30626724] Bias: [5.844498]\n"
          ],
          "name": "stdout"
        }
      ]
    },
    {
      "cell_type": "code",
      "metadata": {
        "id": "Qw0Vfxf996uw",
        "colab_type": "code",
        "outputId": "b11f3a5b-6f48-47a6-ab0f-e16ca33bd6d0",
        "colab": {
          "base_uri": "https://localhost:8080/",
          "height": 1000
        }
      },
      "source": [
        "regressor.it"
      ],
      "execution_count": 11,
      "outputs": [
        {
          "output_type": "execute_result",
          "data": {
            "text/plain": [
              "[0,\n",
              " 1,\n",
              " 2,\n",
              " 3,\n",
              " 4,\n",
              " 5,\n",
              " 6,\n",
              " 7,\n",
              " 8,\n",
              " 9,\n",
              " 10,\n",
              " 11,\n",
              " 12,\n",
              " 13,\n",
              " 14,\n",
              " 15,\n",
              " 16,\n",
              " 17,\n",
              " 18,\n",
              " 19,\n",
              " 20,\n",
              " 21,\n",
              " 22,\n",
              " 23,\n",
              " 24,\n",
              " 25,\n",
              " 26,\n",
              " 27,\n",
              " 28,\n",
              " 29,\n",
              " 30,\n",
              " 31,\n",
              " 32,\n",
              " 33,\n",
              " 34,\n",
              " 35,\n",
              " 36,\n",
              " 37,\n",
              " 38,\n",
              " 39,\n",
              " 40,\n",
              " 41,\n",
              " 42,\n",
              " 43,\n",
              " 44,\n",
              " 45,\n",
              " 46,\n",
              " 47,\n",
              " 48,\n",
              " 49,\n",
              " 50,\n",
              " 51,\n",
              " 52,\n",
              " 53,\n",
              " 54,\n",
              " 55,\n",
              " 56,\n",
              " 57,\n",
              " 58,\n",
              " 59,\n",
              " 60,\n",
              " 61,\n",
              " 62,\n",
              " 63,\n",
              " 64,\n",
              " 65,\n",
              " 66,\n",
              " 67,\n",
              " 68,\n",
              " 69,\n",
              " 70,\n",
              " 71,\n",
              " 72,\n",
              " 73,\n",
              " 74,\n",
              " 75,\n",
              " 76,\n",
              " 77,\n",
              " 78,\n",
              " 79,\n",
              " 80,\n",
              " 81,\n",
              " 82,\n",
              " 83,\n",
              " 84,\n",
              " 85,\n",
              " 86,\n",
              " 87,\n",
              " 88,\n",
              " 89,\n",
              " 90,\n",
              " 91,\n",
              " 92,\n",
              " 93,\n",
              " 94,\n",
              " 95,\n",
              " 96,\n",
              " 97,\n",
              " 98,\n",
              " 99]"
            ]
          },
          "metadata": {
            "tags": []
          },
          "execution_count": 11
        }
      ]
    },
    {
      "cell_type": "code",
      "metadata": {
        "id": "YPI547mUIcSK",
        "colab_type": "code",
        "outputId": "49eb39dc-7d9c-45d6-e8be-5307b8bc9f9a",
        "colab": {
          "base_uri": "https://localhost:8080/",
          "height": 279
        }
      },
      "source": [
        "iterations=[1,2,3,4,5,6,7,8,9,10]\n",
        "cost =[102.91008189424169,91.13317278598234,80.94548387910852,72.13255889976814,64.50888123548864,57.91396869153091,52.2089952377883,47.27386863183723,43.00470240023128,39.31162896162283]\n",
        "plt.plot(regressor.it,regressor.cost_trend)\n",
        "plt.xlabel('iterations')\n",
        "plt.ylabel('cost')\n",
        "plt.show()"
      ],
      "execution_count": 13,
      "outputs": [
        {
          "output_type": "display_data",
          "data": {
            "image/png": "[encoded data removed]",
            "text/plain": [
              "<Figure size 432x288 with 1 Axes>"
            ]
          },
          "metadata": {
            "tags": []
          }
        }
      ]
    },
    {
      "cell_type": "code",
      "metadata": {
        "id": "kQzmEuZ0Imtn",
        "colab_type": "code",
        "colab": {}
      },
      "source": [
        ""
      ],
      "execution_count": 0,
      "outputs": []
    }
  ]
}